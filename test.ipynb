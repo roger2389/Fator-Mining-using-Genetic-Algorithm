{
 "cells": [
  {
   "cell_type": "code",
   "execution_count": 1,
   "metadata": {},
   "outputs": [],
   "source": [
    "%load_ext autoreload\n",
    "%autoreload 2"
   ]
  },
  {
   "cell_type": "code",
   "execution_count": 2,
   "metadata": {},
   "outputs": [
    {
     "data": {
      "text/html": [
       "        <script type=\"text/javascript\">\n",
       "        window.PlotlyConfig = {MathJaxConfig: 'local'};\n",
       "        if (window.MathJax && window.MathJax.Hub && window.MathJax.Hub.Config) {window.MathJax.Hub.Config({SVG: {font: \"STIX-Web\"}});}\n",
       "        if (typeof require !== 'undefined') {\n",
       "        require.undef(\"plotly\");\n",
       "        requirejs.config({\n",
       "            paths: {\n",
       "                'plotly': ['https://cdn.plot.ly/plotly-2.35.2.min']\n",
       "            }\n",
       "        });\n",
       "        require(['plotly'], function(Plotly) {\n",
       "            window._Plotly = Plotly;\n",
       "        });\n",
       "        }\n",
       "        </script>\n",
       "        "
      ]
     },
     "metadata": {},
     "output_type": "display_data"
    }
   ],
   "source": [
    "import os\n",
    "from datetime import time\n",
    "from datetime import datetime\n",
    "import numpy as np\n",
    "import pandas as pd\n",
    "from deap_r import base, creator, tools, gp, algorithms\n",
    "#from operators import *\n",
    "import operators_v4\n",
    "from fitness import *\n",
    "#import pyarrow.feather as feather\n",
    "import gc\n",
    "import argparse\n",
    "import random\n",
    "import json\n",
    "import warnings\n",
    "import pathlib\n",
    "import pickle\n",
    "import tqdm\n",
    "warnings.filterwarnings('ignore')\n",
    "#import matplotlib.pyplot as plt\n",
    "import sys\n",
    "import Tool\n",
    "import fitness\n",
    "import GAStockSelection_v4\n",
    "import sys\n",
    "sys.path.append(\"C:/Users/User/我的雲端硬碟 (owen.lin@mutual-boost.com)/MBQ_Tej_v2/MBQ_tej_v2\")\n",
    "import MBQ_tej_v2_manager\n",
    "import config\n",
    "import Tool\n",
    "import operators_v4"
   ]
  },
  {
   "cell_type": "code",
   "execution_count": 3,
   "metadata": {},
   "outputs": [],
   "source": [
    "# new_expr_dict = {\n",
    "#     # # 成交量/價新變化\n",
    "#     # 'vol_ratio_5_20': 'Volume_1000_Shares.rolling(5).mean() / Volume_1000_Shares.rolling(20).mean()',\n",
    "#     # 'vwap_diff': 'Vwap - Adj_Close',\n",
    "#     # 'price_range_ratio': '(Adj_High - Adj_Low) / Adj_Low',\n",
    "#     # 'intraday_range': '(Adj_High - Adj_Low) / Adj_Open',\n",
    "    \n",
    "#     # # 當沖與總量變化\n",
    "#     # 'DayTrade_to_Turnover': 'Margin_Day_Trading_Vol / Turnover',\n",
    "#     # 'DayTrade_value_ratio': 'Margin_Day_Trading_Amt / Value_Dollars',\n",
    "    \n",
    "#     # # 統計動量類（非動能）\n",
    "#     # 'rolling_skew_20': 'daily_ret.rolling(20).skew()',\n",
    "#     # 'rolling_kurt_20': 'daily_ret.rolling(20).kurt()',\n",
    "    \n",
    "#     # # 創新性日內表達式\n",
    "#     # 'OpenClose_diff': 'Adj_Open - Adj_Close',\n",
    "#     # 'HighOpen_diff': 'Adj_High - Adj_Open',\n",
    "#     # 'LowOpen_diff': 'Adj_Open - Adj_Low',\n",
    "#     # 'Body_size': 'abs(Adj_Close - Adj_Open)',\n",
    "#     # 'Upper_shadow': 'Adj_High - Adj_Close.where(Adj_Close > Adj_Open, Adj_Open)',\n",
    "#     # 'Lower_shadow': 'Adj_Low - Adj_Open.where(Adj_Open > Adj_Close, Adj_Close)',\n",
    "    \n",
    "#     # # 價量相關因子\n",
    "#     # 'Volume_ret_corr_20': 'Adj_Close.pct_change().rolling(20).corr(Volume_1000_Shares)',\n",
    "#     # 'Volume_VIX_like': 'Volume_1000_Shares.pct_change().rolling(20).std()',\n",
    "    \n",
    "#      # 成交量分析類\n",
    "#     'UpVol': '(Adj_Close > Adj_Close.shift()) * Volume',\n",
    "#     'DownVol': '(Adj_Close < Adj_Close.shift()) * Volume',\n",
    "#     'UpDownVolRatio20': 'UpVol.rolling(20).sum() / DownVol.rolling(20).sum()',\n",
    "\n",
    "#     # 價格與均線的乖離\n",
    "#     'PriceAboveMA20': 'Adj_Close / Adj_Close.rolling(20).mean() - 1',\n",
    "\n",
    "#     # 波動與成交量的比例\n",
    "#     'PriceVolatilityRatio': '((Adj_High - Adj_Low) / Adj_Close).rolling(5).mean() / Turnover.rolling(5).mean()',\n",
    "\n",
    "#     # 盤中波動幅度\n",
    "#     'HighLowRangeNorm': '(Adj_High - Adj_Low) / Adj_Close.rolling(5).mean()',\n",
    "\n",
    "#     # 量變\n",
    "#     'AccumVolChange5': 'Volume.diff().rolling(5).sum() / Volume.shift(5)',\n",
    "\n",
    "#     # 區間突破強度\n",
    "#     'BreakoutStrength20': '(Adj_Close - Adj_Close.rolling(20).min()) / (Adj_Close.rolling(20).max() - Adj_Close.rolling(20).min())',\n",
    "\n",
    "#     # 收盤價與高低點距離\n",
    "#     'CloseToHighRatio': '(Adj_High - Adj_Close) / (Adj_High - Adj_Low + 1e-6)',\n",
    "#     'CloseToLowRatio': '(Adj_Close - Adj_Low) / (Adj_High - Adj_Low + 1e-6)',\n",
    "\n",
    "#     # 價量相關性\n",
    "#     'TurnVolCorr20': 'Adj_Close.pct_change().rolling(20).corr(Volume)',\n",
    "\n",
    "#     # 實體 K 線長度平均\n",
    "#     'BodyStrength20': '(Adj_Close - Adj_Open).abs().rolling(20).mean() / Adj_Close.rolling(20).mean()',\n",
    "    \n",
    "#     'RealizedVol20': '(Adj_Close.pct_change()**2).rolling(20).sum()**0.5',\n",
    "#     'IntradayVolatility': '(Adj_High - Adj_Low) / Adj_Close.shift()',\n",
    "#     'PriceStdTrend20': 'Adj_Close.rolling(20).std() / Adj_Close.rolling(60).std()',\n",
    "#     'RangeRatio': '(Adj_High - Adj_Low) / (Adj_Close.rolling(20).max() - Adj_Close.rolling(20).min())',\n",
    "#     'VolPriceDeviation': 'Adj_Close - Adj_Close.rolling(20).mean() + Volume - Volume.rolling(20).mean()',\n",
    "#     'TurnoverStdRatio': 'Turnover.rolling(5).std() / Turnover.rolling(20).std()',\n",
    "#     'OpenCloseSpread': 'Adj_Open / Adj_Close - 1',\n",
    "#     'CloseHighLowMeanDiff': 'Adj_Close - ((Adj_High + Adj_Low) / 2)',\n",
    "#     'ClosenessToHigh': '(Adj_Close - Adj_Low) / (Adj_High - Adj_Low)',\n",
    "#     'GapReturn': 'Adj_Open / Adj_Close.shift(1) - 1',\n",
    "#     'VolLeadPrice': 'Volume.shift(1) * (Adj_Close / Adj_Close.shift(1) - 1)',\n",
    "#     'PriceLeadVol': '(Adj_Close / Adj_Close.shift(1) - 1).shift(1) * Volume',\n",
    "#     'TurnoverLeadRet': 'Turnover.shift(1) * (Adj_Close / Adj_Close.shift(1) - 1)',\n",
    "# }\n"
   ]
  },
  {
   "cell_type": "code",
   "execution_count": 4,
   "metadata": {},
   "outputs": [],
   "source": [
    "def creat_pop_from_str_list(pop_fun_str_list:list,pset)->list:\n",
    "    return [creator.Individual.from_string(ind_fun_str, pset) for ind_fun_str in pop_fun_str_list]#直接定義因子式\n",
    "def 剔除高度相关(df_result,ts_result,Corr_threshold:float = 0.95):\n",
    "    要删除的清单 = list()\n",
    "    #根據因子本身序列評價單因子績效並排序\n",
    "    #cv_df = ts_result.mean() / ts_result.std()\n",
    "    #ts_result = ts_result[cv_df.sort_values(ascending = False).index]\n",
    "    ts_result = ts_result[df_result.sort_values('fitness',ascending=False)['cal'].to_list()]\n",
    "    Corr_df = ts_result.corr().abs()\n",
    "    for factor_expr in ts_result.columns:\n",
    "        if factor_expr not in 要删除的清单:\n",
    "            Corr_ = Corr_df.loc[factor_expr:,factor_expr].iloc[1:]\n",
    "            要删除的清单+=Corr_[Corr_>Corr_threshold].index.to_list()\n",
    "    要删除的清单 = list(set(要删除的清单))\n",
    "    if 要删除的清单:\n",
    "        print(f'发现:{len(要删除的清单)}个表达式与其他其他表达式相关超过{Corr_threshold}，执行删除！！！')\n",
    "    else:\n",
    "        print(f'没有相关超过{Corr_threshold}的表达式！！！')\n",
    "    df_result = df_result.loc[~df_result['cal'].isin(要删除的清单)]\n",
    "    ts_result = ts_result[df_result['cal'].to_list()]\n",
    "    return df_result,ts_result"
   ]
  },
  {
   "cell_type": "code",
   "execution_count": 5,
   "metadata": {},
   "outputs": [
    {
     "name": "stdout",
     "output_type": "stream",
     "text": [
      "Init variables:2025-04-08 09:28:53.996739.\n",
      "Load Data : C:\\Users\\User\\Documents\\MBQ_TW_DB\n",
      "Target : (Adj_close.shift(-21) / Adj_close.shift(-1) - 1)[(Value_Dollars.rolling(5).mean() > 0)]\n"
     ]
    }
   ],
   "source": [
    "start_time = datetime.now()\n",
    "print(f\"Init variables:{start_time}.\")\n",
    "args = json.load(open(\"./config.json\", encoding=\"utf-8\"))\n",
    "if args['OUTPUT_DATA_PATH'][:2] == './':\n",
    "    args['OUTPUT_DATA_PATH'] = str(pathlib.Path().absolute())+args['OUTPUT_DATA_PATH'][1:]\n",
    "# Data preprocessing\n",
    "Handler_cache_path = args['Handler_cache_path']\n",
    "print(f\"Load Data : {Handler_cache_path}\")\n",
    "CacheHandler = Tool.Handler(path = Handler_cache_path,data_type = args['data_type'])\n",
    "\n",
    "Con = eval(args['Con'],CacheHandler)\n",
    "target = eval(args['TARGET_Expr'],CacheHandler)\n",
    "target = target[np.isfinite(target) & Con]\n",
    "print(f\"Target : ({args['TARGET_Expr']})[{args['Con']}]\")"
   ]
  },
  {
   "cell_type": "code",
   "execution_count": 6,
   "metadata": {},
   "outputs": [
    {
     "name": "stdout",
     "output_type": "stream",
     "text": [
      "没有相关超过0.8的表达式！！！\n",
      "c:\\Users\\User\\Desktop\\pc\\stcok/Results/Results.xlsx 已存在，載入歷史 20 個歷史因子\n",
      "Mega Factor Sharpe Up to: 12.29465413203126\n",
      "Mega Factor Cagr Up to: 91.99453956861807\n"
     ]
    }
   ],
   "source": [
    "使用太多次需剔除的data_name = []\n",
    "ts_result_path = os.path.join(\n",
    "    os.path.dirname(args['OUTPUT_DATA_PATH']),\n",
    "    args['OUTPUT_DATA_PATH'].split('/')[-1].replace('.xlsx', '') + '.parquet'\n",
    ")\n",
    "\n",
    "if os.path.exists(args['OUTPUT_DATA_PATH']) and os.path.exists(ts_result_path):\n",
    "    ts_result = pd.read_parquet(ts_result_path)\n",
    "    df_result = pd.read_excel(args['OUTPUT_DATA_PATH'], index_col=0)\n",
    "\n",
    "    # 清理\n",
    "    df_result, ts_result = 剔除高度相关(df_result, ts_result, args['Corr_threshold'])\n",
    "    df_result['use_data'] = df_result['cal'].apply(lambda X: fitness.parse_expression(X, False)[1])\n",
    "    df_result = df_result.loc[df_result['fitness'] > args['FIT_THRES']]\n",
    "\n",
    "    print(f\"{args['OUTPUT_DATA_PATH']} 已存在，載入歷史 {len(df_result)} 個歷史因子\")\n",
    "    use_data_df = pd.DataFrame([\n",
    "        (k, v) for k, values in df_result.set_index('cal')['use_data'].items() for v in values\n",
    "    ], columns=['key', 'value'])\n",
    "\n",
    "    use_factor = use_data_df.groupby('value')['key'].apply(list)\n",
    "    use_factor_count = use_factor.str.len().sort_values(ascending=False)\n",
    "    使用太多次需剔除的data_name = use_factor_count.loc[\n",
    "        use_factor_count >= args['use_data_count_threshold']\n",
    "    ].index.to_list()\n",
    "    if 使用太多次需剔除的data_name:\n",
    "        print(f'剔除: {使用太多次需剔除的data_name}')\n",
    "\n",
    "    print(f\"Mega Factor Sharpe Up to: {ts_result.mean(axis=1).mean() / ts_result.mean(axis=1).std() * 252**0.5}\")\n",
    "    print(f\"Mega Factor Cagr Up to: {Tool.CAGR(ts_result.mean(axis=1))}\")\n",
    "else:\n",
    "    print(\"尚未有舊資料，初始化空的 ts_result 與 df_result\")\n",
    "    df_result = pd.DataFrame(columns=['cal', 'fitness', 'use_data'])\n",
    "    ts_result = pd.DataFrame()\n",
    "count = 0\n",
    "if args['AMT']==\"None\" or args['AMT']==\"inf\": args['AMT'] = np.inf"
   ]
  },
  {
   "cell_type": "code",
   "execution_count": null,
   "metadata": {},
   "outputs": [
    {
     "name": "stdout",
     "output_type": "stream",
     "text": [
      "Initialize Algorithm Use : 227 cols\n",
      "Start training\n"
     ]
    },
    {
     "name": "stderr",
     "output_type": "stream",
     "text": [
      "100%|██████████| 2000/2000 [10:30<00:00,  3.17it/s]\n"
     ]
    },
    {
     "name": "stdout",
     "output_type": "stream",
     "text": [
      "gen\tnevals\t有效_mean \tavg    \tstd   \tmin   \tmax    \n",
      "0  \t2000  \t0.859339\t-233500\t522473\t-2e+06\t4.67873\n"
     ]
    },
    {
     "name": "stderr",
     "output_type": "stream",
     "text": [
      "100%|██████████| 935/935 [02:36<00:00,  5.96it/s]\n"
     ]
    },
    {
     "name": "stdout",
     "output_type": "stream",
     "text": [
      "1  \t935   \t1.22512 \t-23498.6\t178740\t-2e+06\t4.67873\n"
     ]
    },
    {
     "name": "stderr",
     "output_type": "stream",
     "text": [
      "100%|██████████| 961/961 [02:42<00:00,  5.93it/s]\n"
     ]
    },
    {
     "name": "stdout",
     "output_type": "stream",
     "text": [
      "2  \t961   \t1.76508 \t-16497.7\t145698\t-2e+06\t9.9689 \n"
     ]
    },
    {
     "name": "stderr",
     "output_type": "stream",
     "text": [
      "100%|██████████| 996/996 [04:43<00:00,  3.51it/s]\n"
     ]
    },
    {
     "name": "stdout",
     "output_type": "stream",
     "text": [
      "3  \t996   \t2.02184 \t-14496.9\t135240\t-2e+06\t9.9689 \n"
     ]
    },
    {
     "name": "stderr",
     "output_type": "stream",
     "text": [
      "100%|██████████| 918/918 [06:12<00:00,  2.46it/s]\n"
     ]
    },
    {
     "name": "stdout",
     "output_type": "stream",
     "text": [
      "4  \t918   \t2.45236 \t-37495.5\t197722\t-2e+06\t10.3069\n"
     ]
    },
    {
     "name": "stderr",
     "output_type": "stream",
     "text": [
      "100%|██████████| 951/951 [03:24<00:00,  4.65it/s]\n"
     ]
    },
    {
     "name": "stdout",
     "output_type": "stream",
     "text": [
      "5  \t951   \t2.72298 \t-18492.6\t158613\t-2e+06\t10.3069\n"
     ]
    },
    {
     "name": "stderr",
     "output_type": "stream",
     "text": [
      "100%|██████████| 970/970 [02:13<00:00,  7.24it/s]\n"
     ]
    },
    {
     "name": "stdout",
     "output_type": "stream",
     "text": [
      "累计1次没有变好！！！\n",
      "6  \t970   \t1.93086 \t-13991.2\t140728\t-2e+06\t10.3069\n"
     ]
    },
    {
     "name": "stderr",
     "output_type": "stream",
     "text": [
      "100%|██████████| 964/964 [02:17<00:00,  7.00it/s]\n"
     ]
    },
    {
     "name": "stdout",
     "output_type": "stream",
     "text": [
      "累计2次没有变好！！！\n",
      "7  \t964   \t1.78312 \t-10991  \t126013\t-2e+06\t10.3069\n"
     ]
    },
    {
     "name": "stderr",
     "output_type": "stream",
     "text": [
      "100%|██████████| 919/919 [02:13<00:00,  6.90it/s]\n"
     ]
    },
    {
     "name": "stdout",
     "output_type": "stream",
     "text": [
      "累计3次没有变好！！！\n",
      "8  \t919   \t1.83837 \t-16491.1\t142225\t-2e+06\t10.3069\n"
     ]
    },
    {
     "name": "stderr",
     "output_type": "stream",
     "text": [
      "100%|██████████| 912/912 [02:08<00:00,  7.10it/s]\n"
     ]
    },
    {
     "name": "stdout",
     "output_type": "stream",
     "text": [
      "累计4次没有变好！！！\n",
      "9  \t912   \t1.9456  \t-11991  \t137318\t-2e+06\t10.3069\n"
     ]
    },
    {
     "name": "stderr",
     "output_type": "stream",
     "text": [
      "100%|██████████| 939/939 [02:17<00:00,  6.84it/s]\n"
     ]
    },
    {
     "name": "stdout",
     "output_type": "stream",
     "text": [
      "累计5次没有变好！！！\n",
      "Find 1688 survivors\n",
      "update 1687 survivors\n",
      "发现:1432个表达式与其他其他表达式相关超过0.8，执行删除！！！\n",
      "啟動GA塞選因子池,當前有275個因子\n"
     ]
    },
    {
     "name": "stderr",
     "output_type": "stream",
     "text": [
      " 10%|█         | 51/500 [00:07<01:04,  6.97it/s]\n"
     ]
    },
    {
     "name": "stdout",
     "output_type": "stream",
     "text": [
      "GA 找到的最佳值(演算法內估計) = 0.7620370047139745\n",
      "實際回頭計算的 Sharpe = 12.096962425810387\n",
      "實際回頭計算的 CAGR(%) = 0    88.292785\n",
      "dtype: float64\n",
      "GA 選出 22 個因子，僅保留這些因子進行後續處理\n",
      "total find 22 survivors\n",
      "Mega Factor Score Up to:88.29278493816307\n",
      "inf more survivors needed\n",
      "====================\n",
      "Initialize Algorithm Use : 227 cols\n",
      "Start training\n"
     ]
    },
    {
     "name": "stderr",
     "output_type": "stream",
     "text": [
      "100%|██████████| 2000/2000 [09:30<00:00,  3.51it/s]\n"
     ]
    },
    {
     "name": "stdout",
     "output_type": "stream",
     "text": [
      "gen\tnevals\t有效_mean \tavg    \tstd   \tmin   \tmax    \n",
      "0  \t2000  \t0.988524\t-265000\t547517\t-2e+06\t7.69574\n"
     ]
    },
    {
     "name": "stderr",
     "output_type": "stream",
     "text": [
      "100%|██████████| 970/970 [02:58<00:00,  5.44it/s]\n"
     ]
    },
    {
     "name": "stdout",
     "output_type": "stream",
     "text": [
      "1  \t970   \t1.44662 \t-24498.4\t189472\t-2e+06\t7.69574\n"
     ]
    },
    {
     "name": "stderr",
     "output_type": "stream",
     "text": [
      "100%|██████████| 972/972 [02:45<00:00,  5.89it/s]\n"
     ]
    },
    {
     "name": "stdout",
     "output_type": "stream",
     "text": [
      "2  \t972   \t2.12235 \t-20497.4\t151921\t-2e+06\t9.58509\n"
     ]
    },
    {
     "name": "stderr",
     "output_type": "stream",
     "text": [
      "100%|██████████| 922/922 [02:49<00:00,  5.45it/s]\n"
     ]
    },
    {
     "name": "stdout",
     "output_type": "stream",
     "text": [
      "3  \t922   \t2.36027 \t-21495.8\t158234\t-2e+06\t9.58509\n"
     ]
    },
    {
     "name": "stderr",
     "output_type": "stream",
     "text": [
      "100%|██████████| 972/972 [02:28<00:00,  6.53it/s]\n"
     ]
    },
    {
     "name": "stdout",
     "output_type": "stream",
     "text": [
      "4  \t972   \t2.71842 \t-11992.8\t129831\t-2e+06\t9.58509\n"
     ]
    },
    {
     "name": "stderr",
     "output_type": "stream",
     "text": [
      "100%|██████████| 903/903 [02:08<00:00,  7.02it/s]\n"
     ]
    },
    {
     "name": "stdout",
     "output_type": "stream",
     "text": [
      "累计1次没有变好！！！\n",
      "5  \t903   \t2.01512 \t-11991.7\t125921\t-2e+06\t9.58509\n"
     ]
    },
    {
     "name": "stderr",
     "output_type": "stream",
     "text": [
      "100%|██████████| 952/952 [02:11<00:00,  7.24it/s]\n"
     ]
    },
    {
     "name": "stdout",
     "output_type": "stream",
     "text": [
      "累计2次没有变好！！！\n",
      "6  \t952   \t1.83762 \t-12491.6\t131696\t-2e+06\t9.58509\n"
     ]
    },
    {
     "name": "stderr",
     "output_type": "stream",
     "text": [
      "100%|██████████| 931/931 [02:12<00:00,  7.05it/s]\n"
     ]
    },
    {
     "name": "stdout",
     "output_type": "stream",
     "text": [
      "累计3次没有变好！！！\n",
      "7  \t931   \t1.94123 \t-11991.5\t125921\t-2e+06\t9.58509\n"
     ]
    },
    {
     "name": "stderr",
     "output_type": "stream",
     "text": [
      "100%|██████████| 912/912 [02:11<00:00,  6.95it/s]\n"
     ]
    },
    {
     "name": "stdout",
     "output_type": "stream",
     "text": [
      "累计4次没有变好！！！\n",
      "8  \t912   \t1.88554 \t-9491.53\t106817\t-2e+06\t9.58509\n"
     ]
    },
    {
     "name": "stderr",
     "output_type": "stream",
     "text": [
      "100%|██████████| 940/940 [02:14<00:00,  6.98it/s]\n"
     ]
    },
    {
     "name": "stdout",
     "output_type": "stream",
     "text": [
      "累计5次没有变好！！！\n",
      "Find 1635 survivors\n",
      "update 1634 survivors\n",
      "发现:1349个表达式与其他其他表达式相关超过0.8，执行删除！！！\n",
      "啟動GA塞選因子池,當前有307個因子\n"
     ]
    },
    {
     "name": "stderr",
     "output_type": "stream",
     "text": [
      " 10%|█         | 51/500 [00:07<01:05,  6.84it/s]\n"
     ]
    },
    {
     "name": "stdout",
     "output_type": "stream",
     "text": [
      "GA 找到的最佳值(演算法內估計) = 0.7651813893314314\n",
      "實際回頭計算的 Sharpe = 12.146877984155156\n",
      "實際回頭計算的 CAGR(%) = 0    95.382396\n",
      "dtype: float64\n",
      "GA 選出 17 個因子，僅保留這些因子進行後續處理\n",
      "total find 17 survivors\n",
      "Mega Factor Score Up to:95.38239573635687\n",
      "inf more survivors needed\n",
      "====================\n",
      "Initialize Algorithm Use : 227 cols\n",
      "Start training\n"
     ]
    },
    {
     "name": "stderr",
     "output_type": "stream",
     "text": [
      "100%|██████████| 2000/2000 [09:20<00:00,  3.57it/s]\n"
     ]
    },
    {
     "name": "stdout",
     "output_type": "stream",
     "text": [
      "gen\tnevals\t有效_mean \tavg    \tstd   \tmin   \tmax    \n",
      "0  \t2000  \t0.974878\t-270000\t545069\t-2e+06\t5.82836\n"
     ]
    },
    {
     "name": "stderr",
     "output_type": "stream",
     "text": [
      "100%|██████████| 963/963 [02:52<00:00,  5.60it/s]\n"
     ]
    },
    {
     "name": "stdout",
     "output_type": "stream",
     "text": [
      "1  \t963   \t1.37839 \t-17998.5\t147228\t-2e+06\t8.8351 \n"
     ]
    },
    {
     "name": "stderr",
     "output_type": "stream",
     "text": [
      "100%|██████████| 935/935 [02:46<00:00,  5.61it/s]\n"
     ]
    },
    {
     "name": "stdout",
     "output_type": "stream",
     "text": [
      "2  \t935   \t2.17112 \t-9997.25\t117898\t-2e+06\t12.0728\n"
     ]
    },
    {
     "name": "stderr",
     "output_type": "stream",
     "text": [
      "100%|██████████| 942/942 [02:47<00:00,  5.63it/s]\n"
     ]
    },
    {
     "name": "stdout",
     "output_type": "stream",
     "text": [
      "3  \t942   \t2.61388 \t-14995.3\t144136\t-2e+06\t12.0999\n"
     ]
    },
    {
     "name": "stderr",
     "output_type": "stream",
     "text": [
      "100%|██████████| 957/957 [03:33<00:00,  4.47it/s]\n"
     ]
    },
    {
     "name": "stdout",
     "output_type": "stream",
     "text": [
      "4  \t957   \t3.18203 \t-15992.2\t133208\t-2e+06\t12.0999\n"
     ]
    },
    {
     "name": "stderr",
     "output_type": "stream",
     "text": [
      "100%|██████████| 960/960 [02:38<00:00,  6.05it/s]\n"
     ]
    },
    {
     "name": "stdout",
     "output_type": "stream",
     "text": [
      "累计1次没有变好！！！\n",
      "5  \t960   \t2.58967 \t-8489.66\t120116\t-2e+06\t12.0999\n"
     ]
    },
    {
     "name": "stderr",
     "output_type": "stream",
     "text": [
      "100%|██████████| 954/954 [02:17<00:00,  6.96it/s]\n"
     ]
    },
    {
     "name": "stdout",
     "output_type": "stream",
     "text": [
      "累计2次没有变好！！！\n",
      "6  \t954   \t2.069   \t-13989.4\t140728\t-2e+06\t12.0999\n"
     ]
    },
    {
     "name": "stderr",
     "output_type": "stream",
     "text": [
      "100%|██████████| 942/942 [02:10<00:00,  7.23it/s]\n"
     ]
    },
    {
     "name": "stdout",
     "output_type": "stream",
     "text": [
      "累计3次没有变好！！！\n",
      "7  \t942   \t2.06745 \t-10489.2\t124056\t-2e+06\t12.0999\n"
     ]
    },
    {
     "name": "stderr",
     "output_type": "stream",
     "text": [
      "100%|██████████| 956/956 [02:12<00:00,  7.23it/s]\n"
     ]
    },
    {
     "name": "stdout",
     "output_type": "stream",
     "text": [
      "累计4次没有变好！！！\n",
      "8  \t956   \t1.98937 \t-18989.4\t163216\t-2e+06\t12.0999\n"
     ]
    },
    {
     "name": "stderr",
     "output_type": "stream",
     "text": [
      "100%|██████████| 939/939 [02:15<00:00,  6.95it/s]\n"
     ]
    },
    {
     "name": "stdout",
     "output_type": "stream",
     "text": [
      "累计5次没有变好！！！\n",
      "Find 1713 survivors\n",
      "update 1711 survivors\n",
      "发现:1440个表达式与其他其他表达式相关超过0.8，执行删除！！！\n",
      "啟動GA塞選因子池,當前有288個因子\n"
     ]
    },
    {
     "name": "stderr",
     "output_type": "stream",
     "text": [
      " 10%|█         | 50/500 [00:07<01:05,  6.85it/s]\n"
     ]
    },
    {
     "name": "stdout",
     "output_type": "stream",
     "text": [
      "GA 找到的最佳值(演算法內估計) = 0.7761125029357474\n",
      "實際回頭計算的 Sharpe = 12.320404033055231\n",
      "實際回頭計算的 CAGR(%) = 0    111.654491\n",
      "dtype: float64\n",
      "GA 選出 19 個因子，僅保留這些因子進行後續處理\n",
      "total find 19 survivors\n",
      "Mega Factor Score Up to:111.6544909489746\n",
      "inf more survivors needed\n",
      "====================\n",
      "Initialize Algorithm Use : 227 cols\n",
      "Start training\n"
     ]
    },
    {
     "name": "stderr",
     "output_type": "stream",
     "text": [
      "100%|██████████| 2000/2000 [09:11<00:00,  3.63it/s]\n"
     ]
    },
    {
     "name": "stdout",
     "output_type": "stream",
     "text": [
      "gen\tnevals\t有效_mean\tavg    \tstd   \tmin   \tmax    \n",
      "0  \t2000  \t1.73178\t-245999\t527716\t-2e+06\t9.65986\n"
     ]
    },
    {
     "name": "stderr",
     "output_type": "stream",
     "text": [
      "100%|██████████| 929/929 [02:49<00:00,  5.47it/s]\n"
     ]
    },
    {
     "name": "stdout",
     "output_type": "stream",
     "text": [
      "1  \t929   \t2.54083\t-19497.2\t148727\t-2e+06\t10.6599\n"
     ]
    },
    {
     "name": "stderr",
     "output_type": "stream",
     "text": [
      "100%|██████████| 984/984 [02:42<00:00,  6.07it/s]\n"
     ]
    },
    {
     "name": "stdout",
     "output_type": "stream",
     "text": [
      "2  \t984   \t3.53416\t-18995.7\t172160\t-2e+06\t12.9893\n"
     ]
    },
    {
     "name": "stderr",
     "output_type": "stream",
     "text": [
      "100%|██████████| 914/914 [02:52<00:00,  5.29it/s]\n"
     ]
    },
    {
     "name": "stdout",
     "output_type": "stream",
     "text": [
      "3  \t914   \t4.19474\t-23493.4\t192219\t-2e+06\t12.9893\n"
     ]
    },
    {
     "name": "stderr",
     "output_type": "stream",
     "text": [
      "100%|██████████| 983/983 [03:05<00:00,  5.31it/s]\n"
     ]
    },
    {
     "name": "stdout",
     "output_type": "stream",
     "text": [
      "4  \t983   \t4.65326\t-24990.1\t188084\t-2e+06\t12.9893\n"
     ]
    },
    {
     "name": "stderr",
     "output_type": "stream",
     "text": [
      "100%|██████████| 914/914 [02:10<00:00,  7.02it/s]\n"
     ]
    },
    {
     "name": "stdout",
     "output_type": "stream",
     "text": [
      "累计1次没有变好！！！\n",
      "5  \t914   \t3.47579\t-14988.6\t140625\t-2e+06\t12.9893\n"
     ]
    },
    {
     "name": "stderr",
     "output_type": "stream",
     "text": [
      "100%|██████████| 984/984 [02:15<00:00,  7.28it/s]\n"
     ]
    },
    {
     "name": "stdout",
     "output_type": "stream",
     "text": [
      "累计2次没有变好！！！\n",
      "6  \t984   \t2.79587\t-11988.7\t125922\t-2e+06\t12.9893\n"
     ]
    },
    {
     "name": "stderr",
     "output_type": "stream",
     "text": [
      "100%|██████████| 904/904 [02:03<00:00,  7.30it/s]\n"
     ]
    },
    {
     "name": "stdout",
     "output_type": "stream",
     "text": [
      "累计3次没有变好！！！\n",
      "7  \t904   \t3.03297\t-18488.4\t152178\t-2e+06\t12.9893\n"
     ]
    },
    {
     "name": "stderr",
     "output_type": "stream",
     "text": [
      "100%|██████████| 948/948 [02:13<00:00,  7.11it/s]\n"
     ]
    },
    {
     "name": "stdout",
     "output_type": "stream",
     "text": [
      "累计4次没有变好！！！\n",
      "8  \t948   \t2.86187\t-9488.4 \t115801\t-2e+06\t12.9893\n"
     ]
    },
    {
     "name": "stderr",
     "output_type": "stream",
     "text": [
      "100%|██████████| 936/936 [02:14<00:00,  6.95it/s]\n"
     ]
    },
    {
     "name": "stdout",
     "output_type": "stream",
     "text": [
      "累计5次没有变好！！！\n",
      "Find 1664 survivors\n",
      "update 1662 survivors\n",
      "发现:1413个表达式与其他其他表达式相关超过0.8，执行删除！！！\n",
      "啟動GA塞選因子池,當前有268個因子\n"
     ]
    },
    {
     "name": "stderr",
     "output_type": "stream",
     "text": [
      " 10%|█         | 51/500 [00:07<01:04,  6.91it/s]\n"
     ]
    },
    {
     "name": "stdout",
     "output_type": "stream",
     "text": [
      "GA 找到的最佳值(演算法內估計) = 0.7348090482460453\n",
      "實際回頭計算的 Sharpe = 11.66473201667459\n",
      "實際回頭計算的 CAGR(%) = 0    77.964313\n",
      "dtype: float64\n",
      "GA 選出 13 個因子，僅保留這些因子進行後續處理\n",
      "total find 13 survivors\n",
      "Mega Factor Score Up to:77.96431278327071\n",
      "inf more survivors needed\n",
      "====================\n",
      "Initialize Algorithm Use : 227 cols\n",
      "Start training\n"
     ]
    },
    {
     "name": "stderr",
     "output_type": "stream",
     "text": [
      "100%|██████████| 2000/2000 [09:20<00:00,  3.57it/s]\n"
     ]
    },
    {
     "name": "stdout",
     "output_type": "stream",
     "text": [
      "gen\tnevals\t有效_mean\tavg    \tstd   \tmin   \tmax    \n",
      "0  \t2000  \t1.01955\t-253502\t540589\t-2e+06\t5.27295\n"
     ]
    },
    {
     "name": "stderr",
     "output_type": "stream",
     "text": [
      "100%|██████████| 900/900 [02:43<00:00,  5.51it/s]\n"
     ]
    },
    {
     "name": "stdout",
     "output_type": "stream",
     "text": [
      "1  \t900   \t1.14421\t-23000.7\t162699\t-2e+06\t6.69643\n"
     ]
    },
    {
     "name": "stderr",
     "output_type": "stream",
     "text": [
      "100%|██████████| 947/947 [03:20<00:00,  4.72it/s]\n"
     ]
    },
    {
     "name": "stdout",
     "output_type": "stream",
     "text": [
      "2  \t947   \t1.71108\t-22999.1\t174560\t-2e+06\t11.7808\n"
     ]
    },
    {
     "name": "stderr",
     "output_type": "stream",
     "text": [
      "100%|██████████| 962/962 [02:34<00:00,  6.23it/s]\n"
     ]
    },
    {
     "name": "stdout",
     "output_type": "stream",
     "text": [
      "3  \t962   \t3.11549\t-16496.5\t138665\t-2e+06\t11.8148\n"
     ]
    },
    {
     "name": "stderr",
     "output_type": "stream",
     "text": [
      "100%|██████████| 947/947 [02:20<00:00,  6.72it/s]\n"
     ]
    },
    {
     "name": "stdout",
     "output_type": "stream",
     "text": [
      "4  \t947   \t5.30245\t-14992.2\t140624\t-2e+06\t11.8148\n"
     ]
    },
    {
     "name": "stderr",
     "output_type": "stream",
     "text": [
      "100%|██████████| 935/935 [02:14<00:00,  6.98it/s]\n"
     ]
    },
    {
     "name": "stdout",
     "output_type": "stream",
     "text": [
      "累计1次没有变好！！！\n",
      "5  \t935   \t4.95023\t-19990  \t156845\t-2e+06\t11.8148\n"
     ]
    },
    {
     "name": "stderr",
     "output_type": "stream",
     "text": [
      "100%|██████████| 923/923 [02:07<00:00,  7.26it/s]\n"
     ]
    },
    {
     "name": "stdout",
     "output_type": "stream",
     "text": [
      "累计2次没有变好！！！\n",
      "6  \t923   \t2.95344\t-11489.9\t119867\t-2e+06\t11.8148\n"
     ]
    },
    {
     "name": "stderr",
     "output_type": "stream",
     "text": [
      "100%|██████████| 979/979 [02:17<00:00,  7.12it/s]\n"
     ]
    },
    {
     "name": "stdout",
     "output_type": "stream",
     "text": [
      "累计3次没有变好！！！\n",
      "7  \t979   \t2.52365\t-9489.83\t111400\t-2e+06\t11.8148\n"
     ]
    },
    {
     "name": "stderr",
     "output_type": "stream",
     "text": [
      "100%|██████████| 940/940 [02:19<00:00,  6.74it/s]\n"
     ]
    },
    {
     "name": "stdout",
     "output_type": "stream",
     "text": [
      "累计4次没有变好！！！\n",
      "8  \t940   \t2.72576\t-13489.9\t135344\t-2e+06\t11.8148\n"
     ]
    },
    {
     "name": "stderr",
     "output_type": "stream",
     "text": [
      "100%|██████████| 911/911 [02:08<00:00,  7.07it/s]\n"
     ]
    },
    {
     "name": "stdout",
     "output_type": "stream",
     "text": [
      "累计5次没有变好！！！\n",
      "Find 377 survivors\n",
      "update 376 survivors\n",
      "发现:280个表达式与其他其他表达式相关超过0.8，执行删除！！！\n",
      "啟動GA塞選因子池,當前有109個因子\n"
     ]
    },
    {
     "name": "stderr",
     "output_type": "stream",
     "text": [
      " 10%|█         | 50/500 [00:06<01:00,  7.47it/s]\n"
     ]
    },
    {
     "name": "stdout",
     "output_type": "stream",
     "text": [
      "GA 找到的最佳值(演算法內估計) = 0.7605738250159157\n",
      "實際回頭計算的 Sharpe = 12.073735168183621\n",
      "實際回頭計算的 CAGR(%) = 0    117.424386\n",
      "dtype: float64\n",
      "GA 選出 19 個因子，僅保留這些因子進行後續處理\n",
      "total find 19 survivors\n",
      "Mega Factor Score Up to:117.42438632207146\n",
      "inf more survivors needed\n",
      "====================\n",
      "Initialize Algorithm Use : 227 cols\n",
      "Start training\n"
     ]
    },
    {
     "name": "stderr",
     "output_type": "stream",
     "text": [
      "100%|██████████| 2000/2000 [09:32<00:00,  3.49it/s]\n"
     ]
    },
    {
     "name": "stdout",
     "output_type": "stream",
     "text": [
      "gen\tnevals\t有效_mean\tavg    \tstd   \tmin   \tmax    \n",
      "0  \t2000  \t2.37285\t-262499\t548265\t-2e+06\t6.88649\n"
     ]
    },
    {
     "name": "stderr",
     "output_type": "stream",
     "text": [
      "100%|██████████| 978/978 [02:56<00:00,  5.54it/s]\n"
     ]
    },
    {
     "name": "stdout",
     "output_type": "stream",
     "text": [
      "1  \t978   \t3.37829\t-17496.4\t155544\t-2e+06\t6.9598 \n"
     ]
    },
    {
     "name": "stderr",
     "output_type": "stream",
     "text": [
      "100%|██████████| 967/967 [02:39<00:00,  6.05it/s]\n"
     ]
    },
    {
     "name": "stdout",
     "output_type": "stream",
     "text": [
      "2  \t967   \t4.09872\t-27495.3\t196835\t-2e+06\t13.0643\n"
     ]
    },
    {
     "name": "stderr",
     "output_type": "stream",
     "text": [
      "100%|██████████| 970/970 [02:38<00:00,  6.14it/s]\n"
     ]
    },
    {
     "name": "stdout",
     "output_type": "stream",
     "text": [
      "3  \t970   \t4.46217\t-14493.9\t131491\t-2e+06\t14.0698\n"
     ]
    },
    {
     "name": "stderr",
     "output_type": "stream",
     "text": [
      "100%|██████████| 931/931 [02:29<00:00,  6.23it/s]\n"
     ]
    },
    {
     "name": "stdout",
     "output_type": "stream",
     "text": [
      "4  \t931   \t5.02069\t-13490.9\t146007\t-2e+06\t14.0698\n"
     ]
    },
    {
     "name": "stderr",
     "output_type": "stream",
     "text": [
      "100%|██████████| 933/933 [02:18<00:00,  6.72it/s]\n"
     ]
    },
    {
     "name": "stdout",
     "output_type": "stream",
     "text": [
      "5  \t933   \t5.59672\t-12488.2\t139083\t-2e+06\t14.0698\n"
     ]
    },
    {
     "name": "stderr",
     "output_type": "stream",
     "text": [
      "100%|██████████| 938/938 [02:28<00:00,  6.32it/s]\n"
     ]
    },
    {
     "name": "stdout",
     "output_type": "stream",
     "text": [
      "累计1次没有变好！！！\n",
      "6  \t938   \t3.68661\t-21987.6\t180323\t-2e+06\t14.0698\n"
     ]
    },
    {
     "name": "stderr",
     "output_type": "stream",
     "text": [
      "  3%|▎         | 32/967 [00:05<02:38,  5.89it/s]"
     ]
    }
   ],
   "source": [
    "while len(df_result) < args['AMT']:\n",
    "    cash_list = CacheHandler.cash_list()\n",
    "    require_cols = [_ for _ in cash_list if '_mrq_0' in _] + [_ for _ in cash_list if '_mrq_' not in _]\n",
    "    require_cols = list(set(require_cols) - set(使用太多次需剔除的data_name) - set(['Alpha102']) - set( ['atten_fg','disp_fg','sbadt_fg']))\n",
    "    len(require_cols)\n",
    "    random.seed(count+datetime.timestamp(start_time))#使用當下時間建立隨機種子\n",
    "    print(f\"Initialize Algorithm Use : {len(require_cols)} cols\")\n",
    "    time_constraint_from = args['DATE_FROM']\n",
    "    time_constraint_to = args['DATE_TO']\n",
    "\n",
    "    df_type = pd.core.frame.DataFrame\n",
    "    pset = gp.PrimitiveSetTyped(\n",
    "        \"MAIN\", [df_type] * len(require_cols), df_type, require_cols)\n",
    "    for Fun_name,Fun_object in operators_v4.Alpha_F.items():\n",
    "        Fun_object.__name__ = Fun_name\n",
    "        locals()[Fun_name] = Fun_object\n",
    "    # normal operator\n",
    "    pset.addPrimitive(abs, [df_type], df_type)\n",
    "    pset.addPrimitive(log, [df_type], df_type)\n",
    "    pset.addPrimitive(sign, [df_type], df_type)\n",
    "    pset.addPrimitive(cs_rank, [df_type], df_type)\n",
    "    pset.addPrimitive(delay, [df_type, int], df_type)\n",
    "    pset.addPrimitive(correlation, [df_type, df_type, int], df_type)\n",
    "    pset.addPrimitive(covariance, [df_type, df_type, int], df_type)\n",
    "    pset.addPrimitive(cs_scale, [df_type, int], df_type)\n",
    "    pset.addPrimitive(ts_delta, [df_type, int], df_type)\n",
    "    pset.addPrimitive(signedpower, [df_type, int], df_type)\n",
    "    pset.addPrimitive(ts_decay_linear, [df_type, int], df_type)\n",
    "    pset.addPrimitive(ts_min, [df_type, int], df_type)\n",
    "    pset.addPrimitive(ts_max, [df_type, int], df_type)\n",
    "    pset.addPrimitive(ts_argmin, [df_type, int], df_type)\n",
    "    pset.addPrimitive(ts_argmax, [df_type, int], df_type)\n",
    "    pset.addPrimitive(ts_rank, [df_type, int], df_type)\n",
    "    pset.addPrimitive(min, [df_type, df_type], df_type)\n",
    "    pset.addPrimitive(max, [df_type, df_type], df_type)\n",
    "    pset.addPrimitive(ts_sum, [df_type, int], df_type)\n",
    "    pset.addPrimitive(ts_product, [df_type, int], df_type)\n",
    "    pset.addPrimitive(ts_stddev, [df_type, int], df_type)\n",
    "    #pset.addPrimitive(where, [df_type, df_type,df_type], df_type)\n",
    "    pset.addPrimitive(ts_mean, [df_type, int], df_type)\n",
    "    \n",
    "    pset.addPrimitive(add, [df_type, df_type], df_type)\n",
    "    pset.addPrimitive(sub, [df_type, df_type], df_type)\n",
    "    pset.addPrimitive(mul, [df_type, df_type], df_type)\n",
    "    pset.addPrimitive(truediv, [df_type, df_type], df_type)\n",
    "    pset.addPrimitive(Zscore, [df_type], df_type)\n",
    "    pset.addPrimitive(非负化处理, [df_type], df_type)\n",
    "    pset.addPrimitive(Neutralization, [df_type, df_type], df_type)\n",
    "    pset.addPrimitive(Factor_to_weight, [df_type], df_type)\n",
    "    #pset.addPrimitive(mean, [df_type, df_type], df_type)\n",
    "    #pset.addPrimitive(std, [df_type, df_type], df_type)\n",
    "    #def SUE(df_type):pass\n",
    "    #class fin_int(int):pass\n",
    "    #pset.addPrimitive(SUE, [df_type, fin_int], df_type)\n",
    "    \n",
    "    # === 加入 Terminal (int) ===\n",
    "    #pset.addTerminal(4, fin_int)\n",
    "    #pset.addTerminal(8, fin_int)\n",
    "    #pset.addTerminal(12, fin_int)\n",
    "\n",
    "    pset.addTerminal(1, int)\n",
    "    pset.addTerminal(2, int)\n",
    "    pset.addTerminal(3, int)\n",
    "    pset.addTerminal(5, int)\n",
    "    pset.addTerminal(10, int)\n",
    "    pset.addTerminal(15, int)\n",
    "    pset.addTerminal(20, int)\n",
    "    pset.addTerminal(30, int)\n",
    "    pset.addTerminal(60, int)\n",
    "    pset.addTerminal(120, int)\n",
    "    pset.addTerminal(250, int)\n",
    "    \n",
    "    creator.create(\"FitnessMax\", base.Fitness, weights=(1.0,))\n",
    "    creator.create(\"Individual\", gp.PrimitiveTree,\n",
    "                    fitness=creator.FitnessMax)\n",
    "\n",
    "    scope = {k: v for k, v in locals().items() if k in require_cols}\n",
    "    scope['ts_result'] = ts_result\n",
    "\n",
    "    if not ts_result.empty:\n",
    "        scope['mega_score'] = Tool.CAGR(ts_result.mean(axis=1))\n",
    "    else:\n",
    "        scope['mega_score'] = 0\n",
    "    toolbox = base.Toolbox()\n",
    "    #int_terminal_types = [int,fin_int]\n",
    "    int_terminal_types = [int]\n",
    "    toolbox.register(\"expr\", gp.genHalfAndHalf, pset=pset,\n",
    "                        min_=0, max_=3, terminal_types=int_terminal_types)\n",
    "    toolbox.register(\"individual\", tools.initIterate,\n",
    "                        creator.Individual, toolbox.expr)\n",
    "    toolbox.register(\"population\", tools.initRepeat,\n",
    "                        list, toolbox.individual)\n",
    "    toolbox.register(\"compile\", gp.compile, pset=pset)\n",
    "    toolbox.register(\"evaluate\", eval(args['FIT_FUNC']), toolbox_compile=toolbox.compile,\n",
    "                        target=target, time_constraint_from=time_constraint_from, time_constraint_to=time_constraint_to, scope=scope, require_cols=require_cols)\n",
    "    toolbox.register(\"select\", tools.selTournament, tournsize=10)\n",
    "    toolbox.register(\"mate\", gp.cxOnePoint)\n",
    "    toolbox.register(\"expr_mut\", gp.genFull, min_=0, max_=1,\n",
    "                        terminal_types=int_terminal_types)\n",
    "    toolbox.register(\"mutate\", gp.mutUniform,\n",
    "                        expr=toolbox.expr_mut, pset=pset)\n",
    "\n",
    "    stats = tools.Statistics(lambda ind: ind.fitness.values)\n",
    "    stats.register(\"avg\", np.nanmean)\n",
    "    stats.register(\"std\", np.nanstd)\n",
    "    stats.register(\"min\", np.nanmin)\n",
    "    stats.register(\"max\", np.nanmax)\n",
    "\n",
    "    print(\"Start training\")\n",
    "    #pop = toolbox.population(n=args['POP'])\n",
    "    pop_dict = {f'{ind_}':ind_ for ind_ in toolbox.population(n=args['POP']*10)}\n",
    "    pop = [pop_dict[_] for _ in random.sample(list(pop_dict.keys()),args['POP'])]\n",
    "    #pop += creat_pop_from_str_list(['SUE(cash_paid_for_operation_activities_mrq_0,4)'],pset)\n",
    "    hof = tools.HallOfFame(args['POP'])\n",
    "    info_dict = {'worlds_count': count, \n",
    "                 'EarlyStop':args['EarlyStop'],\n",
    "                 'n_jobs':args['n_jobs'],\n",
    "                 #'folder_path' : args['OUTPUT_TS_DATA_PATH'],\n",
    "                 }\n",
    "    population, logbook = algorithms.revise(\n",
    "        pop, toolbox, 0.4, 0.2, n_generations=args['GEN'], n_elites=args['POP']//10, stats=stats, hall_of_fame=hof, info_dict = info_dict)\n",
    "\n",
    "    #塞選hof\n",
    "    hof_fitness_Se = pd.Series({f'{X}':X.fitness.values[0] for X in hof.items})\n",
    "    new_ts_result = pd.concat({f'{ind}':ind.ts_result for ind in hof.items},axis = 1)\n",
    "    #根據回傳的時序給分數\n",
    "    new_df_result = Tool.CAGR(new_ts_result).sort_values(ascending = False).reset_index()\n",
    "    #new_df_result = (new_ts_result.mean() / new_ts_result.std() * 252**0.5).sort_values(ascending = False).reset_index()\n",
    "    #根據回傳的評分給分數\n",
    "    #new_df_result = pd.Series({f'{ind}':ind.fitness.values[0] for ind in hof.items}).reset_index()\n",
    "    new_df_result.columns = ['cal','fitness']\n",
    "    new_df_result['use_data'] = np.nan\n",
    "    new_df_result = new_df_result.loc[(new_df_result['fitness']>args['FIT_THRES']) & new_df_result['cal'].isin(hof_fitness_Se[hof_fitness_Se>0].index)]\n",
    "    new_ts_result = new_ts_result[new_df_result['cal'].to_list()]\n",
    "\n",
    "    print(f\"Find {len(new_df_result)} survivors\")\n",
    "    print(f\"update {len(set(new_df_result['cal'])-set(df_result['cal']))} survivors\")\n",
    "    new_df_result = new_df_result[~new_df_result['cal'].isin(df_result['cal'])]\n",
    "    new_ts_result = new_ts_result[new_df_result['cal'].tolist()]\n",
    "\n",
    "    if len(new_df_result) > 0:\n",
    "        df_result = pd.concat([df_result, new_df_result], axis=0).drop_duplicates('cal', keep='first')\n",
    "        df_result = df_result.sort_values('fitness', ascending=False).reset_index(drop=True)\n",
    "        ts_result = pd.concat([ts_result, new_ts_result], axis=1)\n",
    "        ts_result = ts_result.loc[:, ~ts_result.columns.duplicated()]\n",
    "\n",
    "    \n",
    "    # 删除高度相关的因子\n",
    "    df_result,ts_result = 剔除高度相关(df_result,ts_result,Corr_threshold = args['Corr_threshold'])\n",
    "\n",
    "\n",
    "    # 使用ts_result (DataFrame行是日期、列是 N 檔股票、值是日報酬)，最佳化出因子pool\n",
    "    # 建立 GAStockSelection 物件\n",
    "    print(f'啟動GA塞選因子池,當前有{ts_result.shape[1]}個因子')\n",
    "    if ts_result.shape[1] > 1:\n",
    "        ga = GAStockSelection_v4.GAStockSelection(\n",
    "            ts_result=ts_result,\n",
    "            pop_size=1000,         # 人口大小\n",
    "            n_generations=500,   # 最多迭代500代\n",
    "            mutation_rate=0.01,  # 2%突變率\n",
    "            min_pick=5,\n",
    "            max_pick=ts_result.shape[1],          # 最多只挑max_pick檔\n",
    "            patience=50,          # 若50代都沒有更好的解就提早停\n",
    "            forced_n = min(20, ts_result.shape[1]),\n",
    "        )\n",
    "        # 執行 fit() 進行演化\n",
    "        ga.fit()\n",
    "        # 取出最佳解\n",
    "        solution = ga.get_best_solution()\n",
    "        print(\"GA 找到的最佳值(演算法內估計) =\", solution[\"best_sharpe_estimated\"])\n",
    "        print(\"實際回頭計算的 Sharpe =\", solution[\"real_sharpe\"]*252**0.5)\n",
    "        print(\"實際回頭計算的 CAGR(%) =\", solution[\"real_CAGR\"])\n",
    "        chosen_stocks = solution[\"chosen_stocks\"].tolist()\n",
    "        # 更新 df_result 與 ts_result\n",
    "        df_result = df_result[df_result['cal'].isin(chosen_stocks)].sort_values('fitness', ascending=False).reset_index(drop=True)\n",
    "        ts_result = ts_result[chosen_stocks]\n",
    "        print(f\"GA 選出 {len(chosen_stocks)} 個因子，僅保留這些因子進行後續處理\")\n",
    "    else:\n",
    "        chosen_stocks = ts_result.columns.to_list()\n",
    "\n",
    "    # 开始确认源资料使用频繁程度\n",
    "    df_result['use_data'] = df_result['cal'].apply(lambda X:fitness.parse_expression(X,False)[1])\n",
    "    df_result['len'] = df_result['cal'].apply(lambda X:fitness.parse_expression(X,True))\n",
    "    use_data_df = pd.DataFrame([(k, v) for k, values in df_result.set_index('cal')['use_data'].items() for v in values], columns=['key', 'value'])\n",
    "    use_factor = use_data_df.groupby('value')['key'].apply(list)\n",
    "    use_factor_count = use_factor.str.len().sort_values(ascending=False)\n",
    "    使用太多次需剔除的data_name = use_factor_count.loc[use_factor_count>=args['use_data_count_threshold']].index.to_list()\n",
    "    if 使用太多次需剔除的data_name:\n",
    "        print(f'剔除:{使用太多次需剔除的data_name}')\n",
    "    print(f'total find {len(df_result)} survivors')\n",
    "\n",
    "    print(f'Mega Factor Score Up to:{Tool.CAGR(ts_result.mean(axis = 1))}')\n",
    "    if len(df_result) < args['AMT']:\n",
    "        print(f\"{args['AMT'] - len(df_result)} more survivors needed\")\n",
    "    count += 1\n",
    "    args['Operation worlds'] = f'spend {count} worlds'\n",
    "    args['Operation times'] = f'Use {datetime.now()-start_time}'\n",
    "    args['random seed start by'] = datetime.timestamp(start_time)\n",
    "    \n",
    "    save_path = args['OUTPUT_DATA_PATH']\n",
    "    folder_path = os.path.dirname(save_path)\n",
    "    #如果资料夹不存在直接创造资料夹\n",
    "    os.makedirs(folder_path,exist_ok=True)\n",
    "    ts_result_path = os.path.join(folder_path,f\"{save_path.split('/')[-1].replace('.xlsx','')}.parquet\")\n",
    "    ts_result.to_parquet(ts_result_path)\n",
    "    with pd.ExcelWriter(save_path) as writer:\n",
    "        df_result.to_excel(writer, sheet_name='factor')\n",
    "        pd.DataFrame.from_dict(args,orient='index').rename(columns={0:'Info'}).to_excel(writer, sheet_name='Info')\n",
    "    print('='*20)\n",
    "    #break\n",
    "\n",
    "#print(df_result)\n",
    "print(f'start_by:{start_time}')\n",
    "print(f'end_by:{datetime.now()}')\n",
    "print(f'spend {count} worlds')\n",
    "print(f'Use {datetime.now()-start_time}')"
   ]
  },
  {
   "cell_type": "code",
   "execution_count": null,
   "metadata": {},
   "outputs": [],
   "source": [
    "df_result = df_result[df_result['cal'].isin(chosen_stocks)].sort_values('fitness',ascending=False).reset_index(drop=True)\n",
    "ts_result = ts_result[df_result[\"cal\"].tolist()]\n",
    "\n",
    "# 开始确认源资料使用频繁程度\n",
    "df_result['use_data'] = df_result['cal'].apply(lambda X:fitness.parse_expression(X,False)[1])\n",
    "df_result['len'] = df_result['cal'].apply(lambda X:fitness.parse_expression(X,True))\n",
    "use_data_df = pd.DataFrame([(k, v) for k, values in df_result.set_index('cal')['use_data'].items() for v in values], columns=['key', 'value'])\n",
    "use_factor = use_data_df.groupby('value')['key'].apply(list)\n",
    "use_factor_count = use_factor.str.len().sort_values(ascending=False)\n",
    "使用太多次需剔除的data_name = use_factor_count.loc[use_factor_count>=args['use_data_count_threshold']].index.to_list()\n",
    "if 使用太多次需剔除的data_name:\n",
    "    print(f'剔除:{使用太多次需剔除的data_name}')\n",
    "print(f'total find {len(df_result)} survivors')\n",
    "print(f'Mega Factor Score Up to:{Tool.CAGR(ts_result.mean(axis = 1))}')\n",
    "if len(df_result) < args['AMT']:\n",
    "    print(f\"{args['AMT'] - len(df_result)} more survivors needed\")\n",
    "count += 1\n",
    "args['Operation worlds'] = f'spend {count} worlds'\n",
    "args['Operation times'] = f'Use {datetime.now()-start_time}'\n",
    "args['random seed start by'] = datetime.timestamp(start_time)\n",
    "\n",
    "save_path = args['OUTPUT_DATA_PATH']\n",
    "folder_path = os.path.dirname(save_path)\n",
    "#如果资料夹不存在直接创造资料夹\n",
    "os.makedirs(folder_path,exist_ok=True)\n",
    "ts_result_path = os.path.join(folder_path,f\"{save_path.split('/')[-1].replace('.xlsx','')}.parquet\")\n",
    "ts_result.to_parquet(ts_result_path)\n",
    "with pd.ExcelWriter(save_path) as writer:\n",
    "    df_result.to_excel(writer, sheet_name='factor')\n",
    "    pd.DataFrame.from_dict(args,orient='index').rename(columns={0:'Info'}).to_excel(writer, sheet_name='Info')\n",
    "print('='*20)"
   ]
  }
 ],
 "metadata": {
  "kernelspec": {
   "display_name": "zipline-tej",
   "language": "python",
   "name": "python3"
  },
  "language_info": {
   "codemirror_mode": {
    "name": "ipython",
    "version": 3
   },
   "file_extension": ".py",
   "mimetype": "text/x-python",
   "name": "python",
   "nbconvert_exporter": "python",
   "pygments_lexer": "ipython3",
   "version": "3.11.10"
  }
 },
 "nbformat": 4,
 "nbformat_minor": 2
}
